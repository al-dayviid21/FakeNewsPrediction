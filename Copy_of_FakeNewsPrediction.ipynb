{
  "cells": [
    {
      "cell_type": "markdown",
      "metadata": {
        "id": "view-in-github",
        "colab_type": "text"
      },
      "source": [
        "<a href=\"https://colab.research.google.com/github/al-dayviid21/FakeNewsPrediction/blob/master/Copy_of_FakeNewsPrediction.ipynb\" target=\"_parent\"><img src=\"https://colab.research.google.com/assets/colab-badge.svg\" alt=\"Open In Colab\"/></a>"
      ]
    },
    {
      "cell_type": "markdown",
      "id": "338351c5-6ccc-4a43-a26d-d7163fa19c7a",
      "metadata": {
        "id": "338351c5-6ccc-4a43-a26d-d7163fa19c7a"
      },
      "source": [
        "# Introduction"
      ]
    },
    {
      "cell_type": "markdown",
      "id": "d42cb834-4cde-4e9f-a367-7f99a2a84b13",
      "metadata": {
        "id": "d42cb834-4cde-4e9f-a367-7f99a2a84b13"
      },
      "source": [
        "In recent years, the proliferation of fake news has become a significant concern in the digital age. Fake news is intentionally created to mislead readers, often with the aim of spreading propaganda or misinformation. The consequences of fake news can be far-reaching, leading to social and political upheaval and undermining the credibility of traditional news sources. With the advent of machine learning, researchers have started to explore the potential of using computational methods to detect and predict fake news. Machine learning algorithms can be trained to analyze various features of news articles, such as the language, source, and content, to identify patterns that distinguish fake news from real news. The development of accurate and efficient machine learning models for fake news prediction has the potential to mitigate the negative impact of fake news and promote the dissemination of accurate and reliable information."
      ]
    },
    {
      "cell_type": "markdown",
      "id": "269d24b2-ac3f-48c9-b9db-8c1ed142e8f8",
      "metadata": {
        "id": "269d24b2-ac3f-48c9-b9db-8c1ed142e8f8"
      },
      "source": [
        "# Feature Description"
      ]
    },
    {
      "cell_type": "markdown",
      "id": "818580e7-6f35-4fda-9ec6-ea43db38cdcc",
      "metadata": {
        "id": "818580e7-6f35-4fda-9ec6-ea43db38cdcc"
      },
      "source": [
        "Title: The headline or caption of the news or article.\n",
        "\n",
        "Text: Body of the news or article.\n",
        "\n",
        "Label: Indicates if the news is Fake (1) or Real (0)."
      ]
    },
    {
      "cell_type": "markdown",
      "id": "2251934d-b4a5-4bd8-803a-942277900bcc",
      "metadata": {
        "id": "2251934d-b4a5-4bd8-803a-942277900bcc"
      },
      "source": [
        "# Import Libraries"
      ]
    },
    {
      "cell_type": "code",
      "execution_count": 68,
      "id": "6c167a30-7b39-496c-ac2d-32e13b802299",
      "metadata": {
        "id": "6c167a30-7b39-496c-ac2d-32e13b802299",
        "colab": {
          "base_uri": "https://localhost:8080/"
        },
        "outputId": "75427ed9-3db7-4a6d-efd0-7a61f9281c87"
      },
      "outputs": [
        {
          "output_type": "stream",
          "name": "stderr",
          "text": [
            "[nltk_data] Downloading package stopwords to /root/nltk_data...\n",
            "[nltk_data]   Package stopwords is already up-to-date!\n",
            "[nltk_data] Downloading package wordnet to /root/nltk_data...\n",
            "[nltk_data]   Package wordnet is already up-to-date!\n",
            "[nltk_data] Downloading package omw-1.4 to /root/nltk_data...\n",
            "[nltk_data]   Package omw-1.4 is already up-to-date!\n"
          ]
        },
        {
          "output_type": "execute_result",
          "data": {
            "text/plain": [
              "True"
            ]
          },
          "metadata": {},
          "execution_count": 68
        }
      ],
      "source": [
        "import pandas as pd\n",
        "import numpy as np\n",
        "import matplotlib.pyplot as plt\n",
        "import seaborn as sns\n",
        "import re\n",
        "import nltk\n",
        "from nltk import sent_tokenize\n",
        "from nltk.stem import WordNetLemmatizer, PorterStemmer\n",
        "from nltk.corpus import stopwords\n",
        "from sklearn.model_selection import train_test_split\n",
        "from sklearn.feature_extraction.text import TfidfVectorizer, CountVectorizer\n",
        "from sklearn.metrics import accuracy_score, classification_report, f1_score, confusion_matrix\n",
        "import gensim\n",
        "from gensim.utils import simple_preprocess\n",
        "from xgboost import XGBClassifier\n",
        "from sklearn.svm import SVC\n",
        "from sklearn.naive_bayes import GaussianNB, MultinomialNB\n",
        "from sklearn.neighbors import KNeighborsClassifier\n",
        "from sklearn.ensemble import RandomForestClassifier\n",
        "nltk.download('stopwords')\n",
        "nltk.download('wordnet')\n",
        "nltk.download('omw-1.4')"
      ]
    },
    {
      "cell_type": "code",
      "execution_count": 42,
      "id": "4b6b64a1-45cd-406c-aa5e-cf7eb99cb4ac",
      "metadata": {
        "id": "4b6b64a1-45cd-406c-aa5e-cf7eb99cb4ac",
        "outputId": "ba9ea64b-9eac-4325-9ecb-651a48845a5e",
        "colab": {
          "base_uri": "https://localhost:8080/",
          "height": 206
        }
      },
      "outputs": [
        {
          "output_type": "execute_result",
          "data": {
            "text/plain": [
              "                                               title  \\\n",
              "0                       You Can Smell Hillary’s Fear   \n",
              "1  Watch The Exact Moment Paul Ryan Committed Pol...   \n",
              "2        Kerry to go to Paris in gesture of sympathy   \n",
              "3  Bernie supporters on Twitter erupt in anger ag...   \n",
              "4   The Battle of New York: Why This Primary Matters   \n",
              "\n",
              "                                                text label  \n",
              "0  Daniel Greenfield, a Shillman Journalism Fello...  FAKE  \n",
              "1  Google Pinterest Digg Linkedin Reddit Stumbleu...  FAKE  \n",
              "2  U.S. Secretary of State John F. Kerry said Mon...  REAL  \n",
              "3  — Kaydee King (@KaydeeKing) November 9, 2016 T...  FAKE  \n",
              "4  It's primary day in New York and front-runners...  REAL  "
            ],
            "text/html": [
              "\n",
              "  <div id=\"df-644876b0-45fc-4c1f-b586-3973861d3ba9\">\n",
              "    <div class=\"colab-df-container\">\n",
              "      <div>\n",
              "<style scoped>\n",
              "    .dataframe tbody tr th:only-of-type {\n",
              "        vertical-align: middle;\n",
              "    }\n",
              "\n",
              "    .dataframe tbody tr th {\n",
              "        vertical-align: top;\n",
              "    }\n",
              "\n",
              "    .dataframe thead th {\n",
              "        text-align: right;\n",
              "    }\n",
              "</style>\n",
              "<table border=\"1\" class=\"dataframe\">\n",
              "  <thead>\n",
              "    <tr style=\"text-align: right;\">\n",
              "      <th></th>\n",
              "      <th>title</th>\n",
              "      <th>text</th>\n",
              "      <th>label</th>\n",
              "    </tr>\n",
              "  </thead>\n",
              "  <tbody>\n",
              "    <tr>\n",
              "      <th>0</th>\n",
              "      <td>You Can Smell Hillary’s Fear</td>\n",
              "      <td>Daniel Greenfield, a Shillman Journalism Fello...</td>\n",
              "      <td>FAKE</td>\n",
              "    </tr>\n",
              "    <tr>\n",
              "      <th>1</th>\n",
              "      <td>Watch The Exact Moment Paul Ryan Committed Pol...</td>\n",
              "      <td>Google Pinterest Digg Linkedin Reddit Stumbleu...</td>\n",
              "      <td>FAKE</td>\n",
              "    </tr>\n",
              "    <tr>\n",
              "      <th>2</th>\n",
              "      <td>Kerry to go to Paris in gesture of sympathy</td>\n",
              "      <td>U.S. Secretary of State John F. Kerry said Mon...</td>\n",
              "      <td>REAL</td>\n",
              "    </tr>\n",
              "    <tr>\n",
              "      <th>3</th>\n",
              "      <td>Bernie supporters on Twitter erupt in anger ag...</td>\n",
              "      <td>— Kaydee King (@KaydeeKing) November 9, 2016 T...</td>\n",
              "      <td>FAKE</td>\n",
              "    </tr>\n",
              "    <tr>\n",
              "      <th>4</th>\n",
              "      <td>The Battle of New York: Why This Primary Matters</td>\n",
              "      <td>It's primary day in New York and front-runners...</td>\n",
              "      <td>REAL</td>\n",
              "    </tr>\n",
              "  </tbody>\n",
              "</table>\n",
              "</div>\n",
              "      <button class=\"colab-df-convert\" onclick=\"convertToInteractive('df-644876b0-45fc-4c1f-b586-3973861d3ba9')\"\n",
              "              title=\"Convert this dataframe to an interactive table.\"\n",
              "              style=\"display:none;\">\n",
              "        \n",
              "  <svg xmlns=\"http://www.w3.org/2000/svg\" height=\"24px\"viewBox=\"0 0 24 24\"\n",
              "       width=\"24px\">\n",
              "    <path d=\"M0 0h24v24H0V0z\" fill=\"none\"/>\n",
              "    <path d=\"M18.56 5.44l.94 2.06.94-2.06 2.06-.94-2.06-.94-.94-2.06-.94 2.06-2.06.94zm-11 1L8.5 8.5l.94-2.06 2.06-.94-2.06-.94L8.5 2.5l-.94 2.06-2.06.94zm10 10l.94 2.06.94-2.06 2.06-.94-2.06-.94-.94-2.06-.94 2.06-2.06.94z\"/><path d=\"M17.41 7.96l-1.37-1.37c-.4-.4-.92-.59-1.43-.59-.52 0-1.04.2-1.43.59L10.3 9.45l-7.72 7.72c-.78.78-.78 2.05 0 2.83L4 21.41c.39.39.9.59 1.41.59.51 0 1.02-.2 1.41-.59l7.78-7.78 2.81-2.81c.8-.78.8-2.07 0-2.86zM5.41 20L4 18.59l7.72-7.72 1.47 1.35L5.41 20z\"/>\n",
              "  </svg>\n",
              "      </button>\n",
              "      \n",
              "  <style>\n",
              "    .colab-df-container {\n",
              "      display:flex;\n",
              "      flex-wrap:wrap;\n",
              "      gap: 12px;\n",
              "    }\n",
              "\n",
              "    .colab-df-convert {\n",
              "      background-color: #E8F0FE;\n",
              "      border: none;\n",
              "      border-radius: 50%;\n",
              "      cursor: pointer;\n",
              "      display: none;\n",
              "      fill: #1967D2;\n",
              "      height: 32px;\n",
              "      padding: 0 0 0 0;\n",
              "      width: 32px;\n",
              "    }\n",
              "\n",
              "    .colab-df-convert:hover {\n",
              "      background-color: #E2EBFA;\n",
              "      box-shadow: 0px 1px 2px rgba(60, 64, 67, 0.3), 0px 1px 3px 1px rgba(60, 64, 67, 0.15);\n",
              "      fill: #174EA6;\n",
              "    }\n",
              "\n",
              "    [theme=dark] .colab-df-convert {\n",
              "      background-color: #3B4455;\n",
              "      fill: #D2E3FC;\n",
              "    }\n",
              "\n",
              "    [theme=dark] .colab-df-convert:hover {\n",
              "      background-color: #434B5C;\n",
              "      box-shadow: 0px 1px 3px 1px rgba(0, 0, 0, 0.15);\n",
              "      filter: drop-shadow(0px 1px 2px rgba(0, 0, 0, 0.3));\n",
              "      fill: #FFFFFF;\n",
              "    }\n",
              "  </style>\n",
              "\n",
              "      <script>\n",
              "        const buttonEl =\n",
              "          document.querySelector('#df-644876b0-45fc-4c1f-b586-3973861d3ba9 button.colab-df-convert');\n",
              "        buttonEl.style.display =\n",
              "          google.colab.kernel.accessAllowed ? 'block' : 'none';\n",
              "\n",
              "        async function convertToInteractive(key) {\n",
              "          const element = document.querySelector('#df-644876b0-45fc-4c1f-b586-3973861d3ba9');\n",
              "          const dataTable =\n",
              "            await google.colab.kernel.invokeFunction('convertToInteractive',\n",
              "                                                     [key], {});\n",
              "          if (!dataTable) return;\n",
              "\n",
              "          const docLinkHtml = 'Like what you see? Visit the ' +\n",
              "            '<a target=\"_blank\" href=https://colab.research.google.com/notebooks/data_table.ipynb>data table notebook</a>'\n",
              "            + ' to learn more about interactive tables.';\n",
              "          element.innerHTML = '';\n",
              "          dataTable['output_type'] = 'display_data';\n",
              "          await google.colab.output.renderOutput(dataTable, element);\n",
              "          const docLink = document.createElement('div');\n",
              "          docLink.innerHTML = docLinkHtml;\n",
              "          element.appendChild(docLink);\n",
              "        }\n",
              "      </script>\n",
              "    </div>\n",
              "  </div>\n",
              "  "
            ]
          },
          "metadata": {},
          "execution_count": 42
        }
      ],
      "source": [
        "df = pd.read_csv('news.csv', engine='python')\n",
        "df.drop('Unnamed: 0', axis=1, inplace=True)\n",
        "df.head()"
      ]
    },
    {
      "cell_type": "code",
      "execution_count": 43,
      "id": "e360f3a1-53d9-4038-bf82-151a149c43bf",
      "metadata": {
        "id": "e360f3a1-53d9-4038-bf82-151a149c43bf",
        "colab": {
          "base_uri": "https://localhost:8080/"
        },
        "outputId": "5b0c746f-396d-4a16-f6f5-f9e330201d9a"
      },
      "outputs": [
        {
          "output_type": "stream",
          "name": "stdout",
          "text": [
            "<class 'pandas.core.frame.DataFrame'>\n",
            "RangeIndex: 6335 entries, 0 to 6334\n",
            "Data columns (total 3 columns):\n",
            " #   Column  Non-Null Count  Dtype \n",
            "---  ------  --------------  ----- \n",
            " 0   title   6335 non-null   object\n",
            " 1   text    6335 non-null   object\n",
            " 2   label   6335 non-null   object\n",
            "dtypes: object(3)\n",
            "memory usage: 148.6+ KB\n"
          ]
        }
      ],
      "source": [
        "df.info()"
      ]
    },
    {
      "cell_type": "code",
      "execution_count": 44,
      "id": "759313bb-76ea-4827-86c3-12117cce607f",
      "metadata": {
        "id": "759313bb-76ea-4827-86c3-12117cce607f",
        "colab": {
          "base_uri": "https://localhost:8080/",
          "height": 265
        },
        "outputId": "68450e4d-9eef-4d4e-b613-4806c4778cd9"
      },
      "outputs": [
        {
          "output_type": "display_data",
          "data": {
            "text/plain": [
              "<Figure size 432x288 with 1 Axes>"
            ],
            "image/png": "[encoded data removed]"
          },
          "metadata": {
            "needs_background": "light"
          }
        }
      ],
      "source": [
        "label = df['label'].value_counts()\n",
        "plt.bar(label.index, label.values);"
      ]
    },
    {
      "cell_type": "markdown",
      "id": "c2c45c6c-14e3-44d0-b90c-cab0c088203d",
      "metadata": {
        "id": "c2c45c6c-14e3-44d0-b90c-cab0c088203d"
      },
      "source": [
        "# Split Dataset"
      ]
    },
    {
      "cell_type": "markdown",
      "id": "af373455-cdb8-4ffd-b48b-69fe8a4fccba",
      "metadata": {
        "id": "af373455-cdb8-4ffd-b48b-69fe8a4fccba"
      },
      "source": [
        "for this initial model, we will only work with the body of the article. Subsequently, we will integrate the title to see its effect on the accuracy of the model"
      ]
    },
    {
      "cell_type": "code",
      "execution_count": 45,
      "id": "94882cd3-435d-4f5a-b0dc-a2232eb08ba6",
      "metadata": {
        "id": "94882cd3-435d-4f5a-b0dc-a2232eb08ba6"
      },
      "outputs": [],
      "source": [
        "y = df['label'].map({'FAKE':1, 'REAL':0})\n",
        "X = df['text']"
      ]
    },
    {
      "cell_type": "code",
      "execution_count": 46,
      "id": "c0c7621d-7367-4ba7-8c66-3729fd85d663",
      "metadata": {
        "id": "c0c7621d-7367-4ba7-8c66-3729fd85d663"
      },
      "outputs": [],
      "source": [
        "X_train, X_test, y_train, y_test = train_test_split(X, y, test_size=0.2, random_state=0)"
      ]
    },
    {
      "cell_type": "markdown",
      "id": "f49742b9-6788-4417-ad4b-97a8e939376c",
      "metadata": {
        "id": "f49742b9-6788-4417-ad4b-97a8e939376c"
      },
      "source": [
        "# Preprocess data"
      ]
    },
    {
      "cell_type": "code",
      "execution_count": 47,
      "id": "7ed1676b-583c-457d-81f2-a184d1a56384",
      "metadata": {
        "id": "7ed1676b-583c-457d-81f2-a184d1a56384"
      },
      "outputs": [],
      "source": [
        "lemmatizer = WordNetLemmatizer()"
      ]
    },
    {
      "cell_type": "code",
      "execution_count": 49,
      "id": "39948efa-fe8e-47df-9bb6-8a410560d464",
      "metadata": {
        "id": "39948efa-fe8e-47df-9bb6-8a410560d464"
      },
      "outputs": [],
      "source": [
        "X_train = X_train.str.lower()"
      ]
    },
    {
      "cell_type": "code",
      "source": [
        "def remove_char(text):\n",
        "    return re.sub('[^a-zA-Z]', ' ', text)\n",
        "X_train = X_train.apply(remove_char)"
      ],
      "metadata": {
        "id": "SBCO_BAcnO_P"
      },
      "id": "SBCO_BAcnO_P",
      "execution_count": 50,
      "outputs": []
    },
    {
      "cell_type": "code",
      "source": [
        "def lemmatize_text(text):\n",
        "  text = text.split()\n",
        "  text = [lemmatizer.lemmatize(word) for word in text if word not in set(stopwords.words('english'))]\n",
        "  text = ' '.join(text)\n",
        "  return text"
      ],
      "metadata": {
        "id": "ZUpKJVfYpgnv"
      },
      "id": "ZUpKJVfYpgnv",
      "execution_count": 51,
      "outputs": []
    },
    {
      "cell_type": "code",
      "source": [
        "X_train = X_train.apply(lemmatize_text)"
      ],
      "metadata": {
        "id": "Y3BrVh0RnOzt"
      },
      "id": "Y3BrVh0RnOzt",
      "execution_count": 52,
      "outputs": []
    },
    {
      "cell_type": "code",
      "source": [
        "X_test = X_test.str.lower()"
      ],
      "metadata": {
        "id": "HHOsm6c1v_By"
      },
      "id": "HHOsm6c1v_By",
      "execution_count": 54,
      "outputs": []
    },
    {
      "cell_type": "code",
      "source": [
        "X_test = X_test.apply(remove_char)"
      ],
      "metadata": {
        "id": "txXJD5z6wIvs"
      },
      "id": "txXJD5z6wIvs",
      "execution_count": 55,
      "outputs": []
    },
    {
      "cell_type": "code",
      "source": [
        "X_test = X_test.apply(lemmatize_text)"
      ],
      "metadata": {
        "id": "OZ4insX8wZsq"
      },
      "id": "OZ4insX8wZsq",
      "execution_count": 56,
      "outputs": []
    },
    {
      "cell_type": "markdown",
      "source": [
        "# Implement TFIDF "
      ],
      "metadata": {
        "id": "QHIkCZTlvwSt"
      },
      "id": "QHIkCZTlvwSt"
    },
    {
      "cell_type": "code",
      "execution_count": 57,
      "id": "b917104f-aa16-4aca-acf5-ec425c3a7ea7",
      "metadata": {
        "id": "b917104f-aa16-4aca-acf5-ec425c3a7ea7"
      },
      "outputs": [],
      "source": [
        "tv = TfidfVectorizer(max_features=2500, binary=True)\n",
        "X_train = tv.fit_transform(X_train).toarray()\n"
      ]
    },
    {
      "cell_type": "code",
      "execution_count": 58,
      "id": "621a4708-b885-4342-bc1e-4daa45f4f474",
      "metadata": {
        "id": "621a4708-b885-4342-bc1e-4daa45f4f474"
      },
      "outputs": [],
      "source": [
        "X_test = tv.transform(X_test).toarray()"
      ]
    },
    {
      "cell_type": "markdown",
      "source": [
        "# Modelling"
      ],
      "metadata": {
        "id": "4s2NZLW56SL0"
      },
      "id": "4s2NZLW56SL0"
    },
    {
      "cell_type": "code",
      "execution_count": 61,
      "id": "e834c1c5-aefa-402c-a654-fe3daf2d5d0a",
      "metadata": {
        "id": "e834c1c5-aefa-402c-a654-fe3daf2d5d0a"
      },
      "outputs": [],
      "source": [
        "models = [('SVC', SVC()), ('KNN', KNeighborsClassifier(n_neighbors=10)),\n",
        "         ('GNB', GaussianNB()), ('RFC', RandomForestClassifier()),\n",
        "         ('XGB', XGBClassifier()), ('MNB', MultinomialNB())]\n",
        "\n",
        "results = []\n",
        "for name, model in models:\n",
        "    model.fit(X_train, y_train)\n",
        "    y_pred = model.predict(X_test)\n",
        "    score = accuracy_score(y_test, y_pred)\n",
        "    results.append((name, score))\n",
        "results.sort(key=lambda a:a[1], reverse=True)"
      ]
    },
    {
      "cell_type": "code",
      "source": [
        "results"
      ],
      "metadata": {
        "colab": {
          "base_uri": "https://localhost:8080/"
        },
        "id": "nmBL1T6lyrxc",
        "outputId": "9620525f-f003-4689-d8d7-a933b6ec93a7"
      },
      "id": "nmBL1T6lyrxc",
      "execution_count": 62,
      "outputs": [
        {
          "output_type": "execute_result",
          "data": {
            "text/plain": [
              "[('SVC', 0.930544593528019),\n",
              " ('RFC', 0.8910812943962115),\n",
              " ('XGB', 0.8871349644830308),\n",
              " ('GNB', 0.8587213891081295),\n",
              " ('MNB', 0.8531965272296764),\n",
              " ('KNN', 0.516179952644041)]"
            ]
          },
          "metadata": {},
          "execution_count": 62
        }
      ]
    },
    {
      "cell_type": "markdown",
      "source": [
        "The model of choice is SVC with an accuracy of 93%"
      ],
      "metadata": {
        "id": "K5GQfWMu40XQ"
      },
      "id": "K5GQfWMu40XQ"
    },
    {
      "cell_type": "code",
      "source": [
        "model = SVC()\n",
        "model.fit(X_train, y_train)\n",
        "y_pred = model.predict(X_test)"
      ],
      "metadata": {
        "id": "czKqt5ro3-zt"
      },
      "id": "czKqt5ro3-zt",
      "execution_count": 66,
      "outputs": []
    },
    {
      "cell_type": "code",
      "source": [
        "score = accuracy_score(y_test, y_pred)\n",
        "score"
      ],
      "metadata": {
        "colab": {
          "base_uri": "https://localhost:8080/"
        },
        "id": "oMnnYc4w4_bS",
        "outputId": "c74d2bb6-7914-44a1-d80a-f62794ceb9f5"
      },
      "id": "oMnnYc4w4_bS",
      "execution_count": 67,
      "outputs": [
        {
          "output_type": "execute_result",
          "data": {
            "text/plain": [
              "0.930544593528019"
            ]
          },
          "metadata": {},
          "execution_count": 67
        }
      ]
    },
    {
      "cell_type": "code",
      "source": [
        "confusion_matrix(y_test, y_pred)"
      ],
      "metadata": {
        "colab": {
          "base_uri": "https://localhost:8080/"
        },
        "id": "3R_WR4ew5Co1",
        "outputId": "ea4a7b32-3b85-4e58-e591-d2629998c3da"
      },
      "id": "3R_WR4ew5Co1",
      "execution_count": 69,
      "outputs": [
        {
          "output_type": "execute_result",
          "data": {
            "text/plain": [
              "array([[604,  48],\n",
              "       [ 40, 575]])"
            ]
          },
          "metadata": {},
          "execution_count": 69
        }
      ]
    },
    {
      "cell_type": "code",
      "source": [
        "print(classification_report(y_test, y_pred))"
      ],
      "metadata": {
        "colab": {
          "base_uri": "https://localhost:8080/"
        },
        "id": "13nUIMJT5EQj",
        "outputId": "5e21a781-c0f3-460f-d08e-45d7cb3b3d8a"
      },
      "id": "13nUIMJT5EQj",
      "execution_count": 70,
      "outputs": [
        {
          "output_type": "stream",
          "name": "stdout",
          "text": [
            "              precision    recall  f1-score   support\n",
            "\n",
            "           0       0.94      0.93      0.93       652\n",
            "           1       0.92      0.93      0.93       615\n",
            "\n",
            "    accuracy                           0.93      1267\n",
            "   macro avg       0.93      0.93      0.93      1267\n",
            "weighted avg       0.93      0.93      0.93      1267\n",
            "\n"
          ]
        }
      ]
    },
    {
      "cell_type": "markdown",
      "source": [
        "# Summary\n",
        "\n",
        "\n",
        "1.   The dataset is balanced\n",
        "2.   The model of choice is Support Vector Machine\n",
        "3.   The accuracy of the model is 93%\n"
      ],
      "metadata": {
        "id": "px6fG2fJ6diR"
      },
      "id": "px6fG2fJ6diR"
    },
    {
      "cell_type": "code",
      "source": [],
      "metadata": {
        "id": "Ag6pnj-2614G"
      },
      "id": "Ag6pnj-2614G",
      "execution_count": null,
      "outputs": []
    }
  ],
  "metadata": {
    "kernelspec": {
      "display_name": "Python 3 (ipykernel)",
      "language": "python",
      "name": "python3"
    },
    "language_info": {
      "codemirror_mode": {
        "name": "ipython",
        "version": 3
      },
      "file_extension": ".py",
      "mimetype": "text/x-python",
      "name": "python",
      "nbconvert_exporter": "python",
      "pygments_lexer": "ipython3",
      "version": "3.9.13"
    },
    "colab": {
      "provenance": [],
      "include_colab_link": true
    },
    "accelerator": "GPU",
    "gpuClass": "standard"
  },
  "nbformat": 4,
  "nbformat_minor": 5
}